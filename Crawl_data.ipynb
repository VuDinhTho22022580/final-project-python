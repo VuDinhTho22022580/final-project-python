{
 "cells": [
  {
   "cell_type": "code",
   "execution_count": null,
   "metadata": {
    "id": "_xCNEtUNJFpX"
   },
   "outputs": [],
   "source": [
    "!pip install facebook-scraper"
   ]
  },
  {
   "cell_type": "code",
   "execution_count": null,
   "metadata": {
    "id": "jduzn-WUJH7g"
   },
   "outputs": [],
   "source": [
    "from facebook_scraper import get_posts\n",
    "import pandas as pd\n",
    "import time\n",
    "import matplotlib.pyplot as plt\n",
    "import numpy as np"
   ]
  },
  {
   "cell_type": "code",
   "execution_count": null,
   "metadata": {
    "id": "GO4ZmV40JKjX"
   },
   "outputs": [],
   "source": [
    "FANPAGE_LINK =\"MarinLiekuriva\"\n",
    "FOLDER_PATH = \"./Data\"\n",
    "COOKIE_PATH = \"./Data/www.facebook.com_cookies (5).txt\"\n",
    "\n",
    "PAGES_NUMBER = 20"
   ]
  },
  {
   "cell_type": "code",
   "execution_count": null,
   "metadata": {
    "id": "l09vh2GGJNs_"
   },
   "outputs": [],
   "source": [
    "post_list = []\n",
    "for post in get_posts(FANPAGE_LINK,\n",
    "                    options={\"comments\": True, \"reactions\": True, \"allow_extra_requests\": True},\n",
    "                    extra_info=True, pages=PAGES_NUMBER, cookies=COOKIE_PATH):\n",
    "\n",
    "    print(post)\n",
    "    time.sleep(10)\n",
    "    post_list.append(post)"
   ]
  },
  {
   "cell_type": "code",
   "execution_count": null,
   "metadata": {
    "colab": {
     "base_uri": "https://localhost:8080/"
    },
    "id": "N1TZKxBLJTgy",
    "outputId": "95f99251-9967-4ffa-bd29-8840c5efc89a"
   },
   "outputs": [
    {
     "name": "stdout",
     "output_type": "stream",
     "text": [
      "/content/drive/MyDrive/IAI_Python_final_project/MarinLiekuriva(1).csv\n"
     ]
    }
   ],
   "source": [
    "# Initialize dataframe to scrape Facebook post\n",
    "post_df_full = pd.DataFrame(columns=post_list[0].keys(), index=range(len(post_list)), data=post_list)\n",
    "\n",
    "# To df\n",
    "path=FOLDER_PATH + '/' + FANPAGE_LINK + \".csv\"\n",
    "\n",
    "post_df_full.to_csv(path, index=False)\n",
    "print(path)"
   ]
  },
  {
   "cell_type": "code",
   "execution_count": null,
   "metadata": {
    "id": "suHNKqdW8_pn"
   },
   "outputs": [],
   "source": [
    "raw_data = pd.read_csv('./Data/MarinLiekuriva.csv')\n",
    "raw_data.info()"
   ]
  },
  {
   "cell_type": "code",
   "execution_count": null,
   "metadata": {
    "id": "EOhKrCcc9Evn"
   },
   "outputs": [],
   "source": [
    "raw_data.info()"
   ]
  },
  {
   "cell_type": "code",
   "execution_count": null,
   "metadata": {
    "id": "eL6h6eYrAGK0"
   },
   "outputs": [],
   "source": [
    "def missing_data(data):\n",
    "  mdata = {}\n",
    "  for i in data:\n",
    "    missing_value = data[i].isna().sum()/len(data)\n",
    "    mdata.update({i:missing_value})\n",
    "  return mdata"
   ]
  },
  {
   "cell_type": "code",
   "execution_count": null,
   "metadata": {
    "id": "zk9us_H_Ocd1"
   },
   "outputs": [],
   "source": [
    "x = [i for i in data]\n",
    "y = [data[i].isna().sum()/len(data) for i in data]"
   ]
  },
  {
   "cell_type": "code",
   "execution_count": null,
   "metadata": {
    "colab": {
     "base_uri": "https://localhost:8080/"
    },
    "id": "s1YR022nAYy8",
    "outputId": "a7877a0f-fab2-4202-da47-ba460d8a64aa"
   },
   "outputs": [
    {
     "data": {
      "text/plain": [
       "{'post_id': 0.0,\n",
       " 'text': 0.43,\n",
       " 'post_text': 0.435,\n",
       " 'shared_text': 0.965,\n",
       " 'original_text': 0.915,\n",
       " 'time': 0.0,\n",
       " 'timestamp': 0.0,\n",
       " 'image': 0.055,\n",
       " 'image_lowquality': 0.0,\n",
       " 'images': 0.01,\n",
       " 'images_description': 0.01,\n",
       " 'images_lowquality': 0.0,\n",
       " 'images_lowquality_description': 0.0,\n",
       " 'video': 0.965,\n",
       " 'video_duration_seconds': 1.0,\n",
       " 'video_height': 1.0,\n",
       " 'video_id': 0.965,\n",
       " 'video_quality': 1.0,\n",
       " 'video_size_MB': 1.0,\n",
       " 'video_thumbnail': 0.965,\n",
       " 'video_watches': 1.0,\n",
       " 'video_width': 1.0,\n",
       " 'likes': 0.0,\n",
       " 'comments': 0.0,\n",
       " 'shares': 0.0,\n",
       " 'post_url': 0.0,\n",
       " 'link': 0.925,\n",
       " 'links': 0.005,\n",
       " 'user_id': 0.0,\n",
       " 'username': 0.0,\n",
       " 'user_url': 0.0,\n",
       " 'is_live': 0.0,\n",
       " 'factcheck': 1.0,\n",
       " 'shared_post_id': 0.925,\n",
       " 'shared_time': 0.925,\n",
       " 'shared_user_id': 0.925,\n",
       " 'shared_username': 0.925,\n",
       " 'shared_post_url': 0.925,\n",
       " 'available': 0.0,\n",
       " 'comments_full': 0.0,\n",
       " 'reactors': 0.0,\n",
       " 'w3_fb_url': 0.0,\n",
       " 'reactions': 0.0,\n",
       " 'reaction_count': 0.0,\n",
       " 'with': 0.91,\n",
       " 'page_id': 0.0,\n",
       " 'sharers': 1.0,\n",
       " 'image_id': 0.075,\n",
       " 'image_ids': 0.0,\n",
       " 'was_live': 0.0,\n",
       " 'fetched_time': 0.0}"
      ]
     },
     "execution_count": 67,
     "metadata": {},
     "output_type": "execute_result"
    }
   ],
   "source": [
    "missing_data(raw_data)"
   ]
  },
  {
   "cell_type": "code",
   "execution_count": null,
   "metadata": {
    "id": "KZY264OQTuJk"
   },
   "outputs": [],
   "source": [
    "data = raw_data[['post_id', 'text', 'time', 'image', 'reactors', 'reactions', 'reaction_count', 'comments','shares', 'sharers', 'was_live']]"
   ]
  },
  {
   "cell_type": "code",
   "execution_count": null,
   "metadata": {
    "colab": {
     "base_uri": "https://localhost:8080/"
    },
    "id": "IA_zNAdrWook",
    "outputId": "ea0beee4-7a22-467f-d222-28f33f909819"
   },
   "outputs": [
    {
     "data": {
      "text/plain": [
       "{'post_id': 0.0,\n",
       " 'text': 0.43,\n",
       " 'time': 0.0,\n",
       " 'image': 0.055,\n",
       " 'reactors': 0.0,\n",
       " 'reactions': 0.0,\n",
       " 'reaction_count': 0.0,\n",
       " 'comments': 0.0,\n",
       " 'sharers': 1.0,\n",
       " 'was_live': 0.0}"
      ]
     },
     "execution_count": 72,
     "metadata": {},
     "output_type": "execute_result"
    }
   ],
   "source": [
    "missing_data(data)"
   ]
  },
  {
   "cell_type": "code",
   "execution_count": null,
   "metadata": {
    "colab": {
     "base_uri": "https://localhost:8080/"
    },
    "id": "553HjN5DcWVn",
    "outputId": "56a4fec4-a649-4fe3-a665-aa5eefd33906"
   },
   "outputs": [
    {
     "name": "stdout",
     "output_type": "stream",
     "text": [
      "<class 'pandas.core.frame.DataFrame'>\n",
      "RangeIndex: 200 entries, 0 to 199\n",
      "Data columns (total 10 columns):\n",
      " #   Column          Non-Null Count  Dtype  \n",
      "---  ------          --------------  -----  \n",
      " 0   post_id         200 non-null    int64  \n",
      " 1   text            114 non-null    object \n",
      " 2   time            200 non-null    object \n",
      " 3   image           189 non-null    object \n",
      " 4   reactors        200 non-null    object \n",
      " 5   reactions       200 non-null    object \n",
      " 6   reaction_count  200 non-null    int64  \n",
      " 7   comments        200 non-null    int64  \n",
      " 8   sharers         0 non-null      float64\n",
      " 9   was_live        200 non-null    bool   \n",
      "dtypes: bool(1), float64(1), int64(3), object(5)\n",
      "memory usage: 14.4+ KB\n"
     ]
    }
   ],
   "source": [
    "data.info()"
   ]
  },
  {
   "cell_type": "code",
   "execution_count": null,
   "metadata": {
    "colab": {
     "base_uri": "https://localhost:8080/",
     "height": 379
    },
    "id": "mn10if3TdvMW",
    "outputId": "160c0bc2-e37d-4d63-bfd3-c9088d071e17"
   },
   "outputs": [
    {
     "data": {
      "text/html": [
       "\n",
       "  <div id=\"df-a17a73e6-3fb1-4ff0-8ffa-8e45ae89511f\" class=\"colab-df-container\">\n",
       "    <div>\n",
       "<style scoped>\n",
       "    .dataframe tbody tr th:only-of-type {\n",
       "        vertical-align: middle;\n",
       "    }\n",
       "\n",
       "    .dataframe tbody tr th {\n",
       "        vertical-align: top;\n",
       "    }\n",
       "\n",
       "    .dataframe thead th {\n",
       "        text-align: right;\n",
       "    }\n",
       "</style>\n",
       "<table border=\"1\" class=\"dataframe\">\n",
       "  <thead>\n",
       "    <tr style=\"text-align: right;\">\n",
       "      <th></th>\n",
       "      <th>post_id</th>\n",
       "      <th>text</th>\n",
       "      <th>time</th>\n",
       "      <th>image</th>\n",
       "      <th>reactors</th>\n",
       "      <th>reactions</th>\n",
       "      <th>reaction_count</th>\n",
       "      <th>comments</th>\n",
       "      <th>shares</th>\n",
       "      <th>sharers</th>\n",
       "      <th>was_live</th>\n",
       "    </tr>\n",
       "  </thead>\n",
       "  <tbody>\n",
       "    <tr>\n",
       "      <th>0</th>\n",
       "      <td>920510076113642</td>\n",
       "      <td>Bwonya</td>\n",
       "      <td>2023-11-29 03:43:41</td>\n",
       "      <td>https://m.facebook.com/photo/view_full_size/?f...</td>\n",
       "      <td>[]</td>\n",
       "      <td>{'thích': 124, 'yêu thích': 117, 'haha': 2, 'w...</td>\n",
       "      <td>247</td>\n",
       "      <td>15</td>\n",
       "      <td>22</td>\n",
       "      <td>NaN</td>\n",
       "      <td>False</td>\n",
       "    </tr>\n",
       "    <tr>\n",
       "      <th>1</th>\n",
       "      <td>920052726159377</td>\n",
       "      <td>NaN</td>\n",
       "      <td>2023-11-28 05:26:20</td>\n",
       "      <td>https://scontent-lga3-1.xx.fbcdn.net/v/t39.308...</td>\n",
       "      <td>[{'name': 'Nhân Trương', 'link': 'https://face...</td>\n",
       "      <td>{'thích': 785, 'yêu thích': 806, 'haha': 25, '...</td>\n",
       "      <td>1652</td>\n",
       "      <td>64</td>\n",
       "      <td>91</td>\n",
       "      <td>NaN</td>\n",
       "      <td>False</td>\n",
       "    </tr>\n",
       "    <tr>\n",
       "      <th>2</th>\n",
       "      <td>919508826213767</td>\n",
       "      <td>#HonkaiStarRail</td>\n",
       "      <td>2023-11-27 03:10:08</td>\n",
       "      <td>https://scontent-lga3-1.xx.fbcdn.net/v/t39.308...</td>\n",
       "      <td>[{'name': 'Nhân Trương', 'link': 'https://face...</td>\n",
       "      <td>{'thích': 1218, 'yêu thích': 32, 'haha': 2174,...</td>\n",
       "      <td>3450</td>\n",
       "      <td>60</td>\n",
       "      <td>312</td>\n",
       "      <td>NaN</td>\n",
       "      <td>False</td>\n",
       "    </tr>\n",
       "    <tr>\n",
       "      <th>3</th>\n",
       "      <td>918486696315980</td>\n",
       "      <td>Kallen watching HoTr debut :))\\n\\nMarin Liekur...</td>\n",
       "      <td>2023-11-25 02:21:39</td>\n",
       "      <td>NaN</td>\n",
       "      <td>[{'name': 'Đào Tấn Hòa', 'link': 'https://face...</td>\n",
       "      <td>{'thích': 415, 'yêu thích': 11, 'haha': 841, '...</td>\n",
       "      <td>1289</td>\n",
       "      <td>28</td>\n",
       "      <td>40</td>\n",
       "      <td>NaN</td>\n",
       "      <td>False</td>\n",
       "    </tr>\n",
       "    <tr>\n",
       "      <th>4</th>\n",
       "      <td>918453912985925</td>\n",
       "      <td>Hello, I'm just opened my ko-fi shop to sell t...</td>\n",
       "      <td>2023-11-25 00:58:42</td>\n",
       "      <td>NaN</td>\n",
       "      <td>[{'name': 'New Eyes', 'link': 'https://faceboo...</td>\n",
       "      <td>{'thích': 812, 'yêu thích': 464, 'haha': 19, '...</td>\n",
       "      <td>1384</td>\n",
       "      <td>27</td>\n",
       "      <td>33</td>\n",
       "      <td>NaN</td>\n",
       "      <td>False</td>\n",
       "    </tr>\n",
       "  </tbody>\n",
       "</table>\n",
       "</div>\n",
       "    <div class=\"colab-df-buttons\">\n",
       "\n",
       "  <div class=\"colab-df-container\">\n",
       "    <button class=\"colab-df-convert\" onclick=\"convertToInteractive('df-a17a73e6-3fb1-4ff0-8ffa-8e45ae89511f')\"\n",
       "            title=\"Convert this dataframe to an interactive table.\"\n",
       "            style=\"display:none;\">\n",
       "\n",
       "  <svg xmlns=\"http://www.w3.org/2000/svg\" height=\"24px\" viewBox=\"0 -960 960 960\">\n",
       "    <path d=\"M120-120v-720h720v720H120Zm60-500h600v-160H180v160Zm220 220h160v-160H400v160Zm0 220h160v-160H400v160ZM180-400h160v-160H180v160Zm440 0h160v-160H620v160ZM180-180h160v-160H180v160Zm440 0h160v-160H620v160Z\"/>\n",
       "  </svg>\n",
       "    </button>\n",
       "\n",
       "  <style>\n",
       "    .colab-df-container {\n",
       "      display:flex;\n",
       "      gap: 12px;\n",
       "    }\n",
       "\n",
       "    .colab-df-convert {\n",
       "      background-color: #E8F0FE;\n",
       "      border: none;\n",
       "      border-radius: 50%;\n",
       "      cursor: pointer;\n",
       "      display: none;\n",
       "      fill: #1967D2;\n",
       "      height: 32px;\n",
       "      padding: 0 0 0 0;\n",
       "      width: 32px;\n",
       "    }\n",
       "\n",
       "    .colab-df-convert:hover {\n",
       "      background-color: #E2EBFA;\n",
       "      box-shadow: 0px 1px 2px rgba(60, 64, 67, 0.3), 0px 1px 3px 1px rgba(60, 64, 67, 0.15);\n",
       "      fill: #174EA6;\n",
       "    }\n",
       "\n",
       "    .colab-df-buttons div {\n",
       "      margin-bottom: 4px;\n",
       "    }\n",
       "\n",
       "    [theme=dark] .colab-df-convert {\n",
       "      background-color: #3B4455;\n",
       "      fill: #D2E3FC;\n",
       "    }\n",
       "\n",
       "    [theme=dark] .colab-df-convert:hover {\n",
       "      background-color: #434B5C;\n",
       "      box-shadow: 0px 1px 3px 1px rgba(0, 0, 0, 0.15);\n",
       "      filter: drop-shadow(0px 1px 2px rgba(0, 0, 0, 0.3));\n",
       "      fill: #FFFFFF;\n",
       "    }\n",
       "  </style>\n",
       "\n",
       "    <script>\n",
       "      const buttonEl =\n",
       "        document.querySelector('#df-a17a73e6-3fb1-4ff0-8ffa-8e45ae89511f button.colab-df-convert');\n",
       "      buttonEl.style.display =\n",
       "        google.colab.kernel.accessAllowed ? 'block' : 'none';\n",
       "\n",
       "      async function convertToInteractive(key) {\n",
       "        const element = document.querySelector('#df-a17a73e6-3fb1-4ff0-8ffa-8e45ae89511f');\n",
       "        const dataTable =\n",
       "          await google.colab.kernel.invokeFunction('convertToInteractive',\n",
       "                                                    [key], {});\n",
       "        if (!dataTable) return;\n",
       "\n",
       "        const docLinkHtml = 'Like what you see? Visit the ' +\n",
       "          '<a target=\"_blank\" href=https://colab.research.google.com/notebooks/data_table.ipynb>data table notebook</a>'\n",
       "          + ' to learn more about interactive tables.';\n",
       "        element.innerHTML = '';\n",
       "        dataTable['output_type'] = 'display_data';\n",
       "        await google.colab.output.renderOutput(dataTable, element);\n",
       "        const docLink = document.createElement('div');\n",
       "        docLink.innerHTML = docLinkHtml;\n",
       "        element.appendChild(docLink);\n",
       "      }\n",
       "    </script>\n",
       "  </div>\n",
       "\n",
       "\n",
       "<div id=\"df-2abfc622-a65d-4473-a9dc-8f509038b1a2\">\n",
       "  <button class=\"colab-df-quickchart\" onclick=\"quickchart('df-2abfc622-a65d-4473-a9dc-8f509038b1a2')\"\n",
       "            title=\"Suggest charts\"\n",
       "            style=\"display:none;\">\n",
       "\n",
       "<svg xmlns=\"http://www.w3.org/2000/svg\" height=\"24px\"viewBox=\"0 0 24 24\"\n",
       "     width=\"24px\">\n",
       "    <g>\n",
       "        <path d=\"M19 3H5c-1.1 0-2 .9-2 2v14c0 1.1.9 2 2 2h14c1.1 0 2-.9 2-2V5c0-1.1-.9-2-2-2zM9 17H7v-7h2v7zm4 0h-2V7h2v10zm4 0h-2v-4h2v4z\"/>\n",
       "    </g>\n",
       "</svg>\n",
       "  </button>\n",
       "\n",
       "<style>\n",
       "  .colab-df-quickchart {\n",
       "      --bg-color: #E8F0FE;\n",
       "      --fill-color: #1967D2;\n",
       "      --hover-bg-color: #E2EBFA;\n",
       "      --hover-fill-color: #174EA6;\n",
       "      --disabled-fill-color: #AAA;\n",
       "      --disabled-bg-color: #DDD;\n",
       "  }\n",
       "\n",
       "  [theme=dark] .colab-df-quickchart {\n",
       "      --bg-color: #3B4455;\n",
       "      --fill-color: #D2E3FC;\n",
       "      --hover-bg-color: #434B5C;\n",
       "      --hover-fill-color: #FFFFFF;\n",
       "      --disabled-bg-color: #3B4455;\n",
       "      --disabled-fill-color: #666;\n",
       "  }\n",
       "\n",
       "  .colab-df-quickchart {\n",
       "    background-color: var(--bg-color);\n",
       "    border: none;\n",
       "    border-radius: 50%;\n",
       "    cursor: pointer;\n",
       "    display: none;\n",
       "    fill: var(--fill-color);\n",
       "    height: 32px;\n",
       "    padding: 0;\n",
       "    width: 32px;\n",
       "  }\n",
       "\n",
       "  .colab-df-quickchart:hover {\n",
       "    background-color: var(--hover-bg-color);\n",
       "    box-shadow: 0 1px 2px rgba(60, 64, 67, 0.3), 0 1px 3px 1px rgba(60, 64, 67, 0.15);\n",
       "    fill: var(--button-hover-fill-color);\n",
       "  }\n",
       "\n",
       "  .colab-df-quickchart-complete:disabled,\n",
       "  .colab-df-quickchart-complete:disabled:hover {\n",
       "    background-color: var(--disabled-bg-color);\n",
       "    fill: var(--disabled-fill-color);\n",
       "    box-shadow: none;\n",
       "  }\n",
       "\n",
       "  .colab-df-spinner {\n",
       "    border: 2px solid var(--fill-color);\n",
       "    border-color: transparent;\n",
       "    border-bottom-color: var(--fill-color);\n",
       "    animation:\n",
       "      spin 1s steps(1) infinite;\n",
       "  }\n",
       "\n",
       "  @keyframes spin {\n",
       "    0% {\n",
       "      border-color: transparent;\n",
       "      border-bottom-color: var(--fill-color);\n",
       "      border-left-color: var(--fill-color);\n",
       "    }\n",
       "    20% {\n",
       "      border-color: transparent;\n",
       "      border-left-color: var(--fill-color);\n",
       "      border-top-color: var(--fill-color);\n",
       "    }\n",
       "    30% {\n",
       "      border-color: transparent;\n",
       "      border-left-color: var(--fill-color);\n",
       "      border-top-color: var(--fill-color);\n",
       "      border-right-color: var(--fill-color);\n",
       "    }\n",
       "    40% {\n",
       "      border-color: transparent;\n",
       "      border-right-color: var(--fill-color);\n",
       "      border-top-color: var(--fill-color);\n",
       "    }\n",
       "    60% {\n",
       "      border-color: transparent;\n",
       "      border-right-color: var(--fill-color);\n",
       "    }\n",
       "    80% {\n",
       "      border-color: transparent;\n",
       "      border-right-color: var(--fill-color);\n",
       "      border-bottom-color: var(--fill-color);\n",
       "    }\n",
       "    90% {\n",
       "      border-color: transparent;\n",
       "      border-bottom-color: var(--fill-color);\n",
       "    }\n",
       "  }\n",
       "</style>\n",
       "\n",
       "  <script>\n",
       "    async function quickchart(key) {\n",
       "      const quickchartButtonEl =\n",
       "        document.querySelector('#' + key + ' button');\n",
       "      quickchartButtonEl.disabled = true;  // To prevent multiple clicks.\n",
       "      quickchartButtonEl.classList.add('colab-df-spinner');\n",
       "      try {\n",
       "        const charts = await google.colab.kernel.invokeFunction(\n",
       "            'suggestCharts', [key], {});\n",
       "      } catch (error) {\n",
       "        console.error('Error during call to suggestCharts:', error);\n",
       "      }\n",
       "      quickchartButtonEl.classList.remove('colab-df-spinner');\n",
       "      quickchartButtonEl.classList.add('colab-df-quickchart-complete');\n",
       "    }\n",
       "    (() => {\n",
       "      let quickchartButtonEl =\n",
       "        document.querySelector('#df-2abfc622-a65d-4473-a9dc-8f509038b1a2 button');\n",
       "      quickchartButtonEl.style.display =\n",
       "        google.colab.kernel.accessAllowed ? 'block' : 'none';\n",
       "    })();\n",
       "  </script>\n",
       "</div>\n",
       "    </div>\n",
       "  </div>\n"
      ],
      "text/plain": [
       "           post_id                                               text  \\\n",
       "0  920510076113642                                             Bwonya   \n",
       "1  920052726159377                                                NaN   \n",
       "2  919508826213767                                    #HonkaiStarRail   \n",
       "3  918486696315980  Kallen watching HoTr debut :))\\n\\nMarin Liekur...   \n",
       "4  918453912985925  Hello, I'm just opened my ko-fi shop to sell t...   \n",
       "\n",
       "                  time                                              image  \\\n",
       "0  2023-11-29 03:43:41  https://m.facebook.com/photo/view_full_size/?f...   \n",
       "1  2023-11-28 05:26:20  https://scontent-lga3-1.xx.fbcdn.net/v/t39.308...   \n",
       "2  2023-11-27 03:10:08  https://scontent-lga3-1.xx.fbcdn.net/v/t39.308...   \n",
       "3  2023-11-25 02:21:39                                                NaN   \n",
       "4  2023-11-25 00:58:42                                                NaN   \n",
       "\n",
       "                                            reactors  \\\n",
       "0                                                 []   \n",
       "1  [{'name': 'Nhân Trương', 'link': 'https://face...   \n",
       "2  [{'name': 'Nhân Trương', 'link': 'https://face...   \n",
       "3  [{'name': 'Đào Tấn Hòa', 'link': 'https://face...   \n",
       "4  [{'name': 'New Eyes', 'link': 'https://faceboo...   \n",
       "\n",
       "                                           reactions  reaction_count  \\\n",
       "0  {'thích': 124, 'yêu thích': 117, 'haha': 2, 'w...             247   \n",
       "1  {'thích': 785, 'yêu thích': 806, 'haha': 25, '...            1652   \n",
       "2  {'thích': 1218, 'yêu thích': 32, 'haha': 2174,...            3450   \n",
       "3  {'thích': 415, 'yêu thích': 11, 'haha': 841, '...            1289   \n",
       "4  {'thích': 812, 'yêu thích': 464, 'haha': 19, '...            1384   \n",
       "\n",
       "   comments  shares  sharers  was_live  \n",
       "0        15      22      NaN     False  \n",
       "1        64      91      NaN     False  \n",
       "2        60     312      NaN     False  \n",
       "3        28      40      NaN     False  \n",
       "4        27      33      NaN     False  "
      ]
     },
     "execution_count": 76,
     "metadata": {},
     "output_type": "execute_result"
    }
   ],
   "source": [
    "data.head()"
   ]
  }
 ],
 "metadata": {
  "colab": {
   "provenance": []
  },
  "kernelspec": {
   "display_name": "Python 3 (ipykernel)",
   "language": "python",
   "name": "python3"
  },
  "language_info": {
   "codemirror_mode": {
    "name": "ipython",
    "version": 3
   },
   "file_extension": ".py",
   "mimetype": "text/x-python",
   "name": "python",
   "nbconvert_exporter": "python",
   "pygments_lexer": "ipython3",
   "version": "3.11.3"
  }
 },
 "nbformat": 4,
 "nbformat_minor": 1
}
